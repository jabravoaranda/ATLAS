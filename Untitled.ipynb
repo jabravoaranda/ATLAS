{
 "cells": [
  {
   "cell_type": "code",
   "execution_count": 4,
   "id": "c1ea8c0f",
   "metadata": {},
   "outputs": [],
   "source": [
    "import xarray as xr"
   ]
  },
  {
   "cell_type": "code",
   "execution_count": 5,
   "id": "d82991e4",
   "metadata": {},
   "outputs": [],
   "source": [
    "rs = xr.open_dataset(r'C:\\Users\\Sol\\OneDrive\\Documentos\\github\\ATLAS\\tests\\data\\lidar_data\\netcdf\\converter\\rs_2023051018900.nc')"
   ]
  },
  {
   "cell_type": "code",
   "execution_count": 9,
   "id": "bb381c16",
   "metadata": {},
   "outputs": [
    {
     "data": {
      "text/plain": [
       "91.318"
      ]
     },
     "execution_count": 9,
     "metadata": {},
     "output_type": "execute_result"
    }
   ],
   "source": [
    "rs.Pressure.values[0]"
   ]
  },
  {
   "cell_type": "code",
   "execution_count": null,
   "id": "b8c4a370",
   "metadata": {},
   "outputs": [],
   "source": [
    "913.18"
   ]
  }
 ],
 "metadata": {
  "kernelspec": {
   "display_name": "Python 3 (ipykernel)",
   "language": "python",
   "name": "python3"
  },
  "language_info": {
   "codemirror_mode": {
    "name": "ipython",
    "version": 3
   },
   "file_extension": ".py",
   "mimetype": "text/x-python",
   "name": "python",
   "nbconvert_exporter": "python",
   "pygments_lexer": "ipython3",
   "version": "3.10.11"
  }
 },
 "nbformat": 4,
 "nbformat_minor": 5
}
